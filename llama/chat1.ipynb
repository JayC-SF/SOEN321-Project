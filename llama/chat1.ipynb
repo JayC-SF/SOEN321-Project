{
 "cells": [
  {
   "cell_type": "code",
   "execution_count": 1,
   "metadata": {},
   "outputs": [],
   "source": [
    "from llama_chat import LlamaChat\n"
   ]
  },
  {
   "cell_type": "code",
   "execution_count": 2,
   "metadata": {},
   "outputs": [],
   "source": [
    "SEED = 5\n",
    "API_URL = \"http://api.llama.hortzcloud.com/\"\n",
    "MODEL = \"llama3.2\"\n",
    "client = LlamaChat(base_api_url = API_URL, model=MODEL)"
   ]
  },
  {
   "cell_type": "code",
   "execution_count": null,
   "metadata": {},
   "outputs": [
    {
     "data": {
      "text/markdown": [
       "The sky appears blue because of a phenomenon called Rayleigh scattering, named after the British physicist Lord Rayleigh, who first described it in the late 19th century.\n",
       "\n",
       "Here's what happens:\n",
       "\n",
       "1. **Sunlight enters Earth's atmosphere**: When sunlight enters our atmosphere, it consists of a spectrum of colors, including all the colors of the visible light spectrum.\n",
       "2. **Scattering by tiny molecules**: The shorter (blue) wavelengths are scattered more than the longer (red) wavelengths by the tiny molecules of gases in the atmosphere, such as nitrogen and oxygen. This is known as Rayleigh scattering.\n",
       "3. **Blue light is scattered in all directions**: As a result of this scattering, the blue light is dispersed in all directions, reaching our eyes from every part of the sky.\n",
       "4. **Eye perceives blue color**: Our eyes perceive the scattered blue light as the dominant color, giving the sky its blue appearance.\n",
       "\n",
       "The reason why the sky doesn't appear violet or purple is because violet light has an even shorter wavelength than blue light and is scattered even more by the atmosphere's molecules. However, our eyes are more sensitive to blue light, so we perceive it as the dominant color.\n",
       "\n",
       "Other factors can affect the apparent color of the sky, such as:\n",
       "\n",
       "* **Dust and pollution**: Tiny particles in the air can scatter light and change its apparent color.\n",
       "* **Clouds and water vapor**: Clouds and water vapor can absorb or scatter light, altering the apparent color of the sky.\n",
       "* **Time of day and atmospheric conditions**: The angle of the sun, atmospheric conditions, and pollutants in the air can all affect the apparent color of the sky.\n",
       "\n",
       "However, under clear conditions, with no significant aerosols or pollution present, the sky will typically appear blue during the daytime."
      ],
      "text/plain": [
       "<IPython.core.display.Markdown object>"
      ]
     },
     "metadata": {},
     "output_type": "display_data"
    }
   ],
   "source": [
    "client.chatAndDisplay(\"Why is the sky so blue?\", SEED)"
   ]
  },
  {
   "cell_type": "code",
   "execution_count": 4,
   "metadata": {},
   "outputs": [
    {
     "data": {
      "text/markdown": [
       "You just asked me \"Why is the sky so blue?\""
      ],
      "text/plain": [
       "<IPython.core.display.Markdown object>"
      ]
     },
     "metadata": {},
     "output_type": "display_data"
    }
   ],
   "source": [
    "client.chatAndDisplay(\"What was the question I just asked you?\")"
   ]
  }
 ],
 "metadata": {
  "kernelspec": {
   "display_name": "SOEN321",
   "language": "python",
   "name": "python3"
  },
  "language_info": {
   "codemirror_mode": {
    "name": "ipython",
    "version": 3
   },
   "file_extension": ".py",
   "mimetype": "text/x-python",
   "name": "python",
   "nbconvert_exporter": "python",
   "pygments_lexer": "ipython3",
   "version": "3.11.0"
  }
 },
 "nbformat": 4,
 "nbformat_minor": 2
}
